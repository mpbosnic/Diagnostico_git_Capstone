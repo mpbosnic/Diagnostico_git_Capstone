{
 "cells": [
  {
   "cell_type": "code",
   "execution_count": 2,
   "metadata": {},
   "outputs": [],
   "source": [
    "import pandas as pd\n",
    "import re"
   ]
  },
  {
   "cell_type": "code",
   "execution_count": null,
   "metadata": {},
   "outputs": [],
   "source": [
    "def load_json_data(path):\n",
    "    df = pd.read_json(path, lines=True)\n",
    "    return df"
   ]
  },
  {
   "cell_type": "code",
   "execution_count": null,
   "metadata": {},
   "outputs": [],
   "source": [
    "def clean_usernames(df):\n",
    "    username_list = []\n",
    "    displayname_list = []\n",
    "    id_list = []\n",
    "    for row in df['user']:\n",
    "        username_list.append(row['username'])\n",
    "        displayname_list.append(row['displayname'])\n",
    "        id_list.append(row['id'])\n",
    "    df['username'] = username_list\n",
    "    df['user_displayname'] = displayname_list\n",
    "    df['user_id'] = id_list\n",
    "    return df"
   ]
  },
  {
   "cell_type": "code",
   "execution_count": null,
   "metadata": {},
   "outputs": [],
   "source": [
    "def get_hashtags(string):\n",
    "    return re.findall(r\"#(\\w+)\", string)"
   ]
  },
  {
   "cell_type": "code",
   "execution_count": null,
   "metadata": {},
   "outputs": [],
   "source": [
    "def get_top_10_retweeted_tweets(df):\n",
    "    return df.sort_values(by=['retweetCount'], ascending = False).iloc[0:10]"
   ]
  },
  {
   "cell_type": "code",
   "execution_count": null,
   "metadata": {},
   "outputs": [],
   "source": [
    "def get_top_10_users(df):\n",
    "    return df[['user_id']].value_counts().sort_values(ascending = False)[0:10]"
   ]
  },
  {
   "cell_type": "code",
   "execution_count": null,
   "metadata": {},
   "outputs": [],
   "source": [
    "def get_top_10_days(df):\n",
    "    df_date = df.copy()\n",
    "    df_date.set_index(df_date['date'], inplace = True)\n",
    "    return df_date.resample('D').apply({'url':'count'}).sort_values('url', ascending = False).iloc[0:10]"
   ]
  },
  {
   "cell_type": "code",
   "execution_count": 3,
   "metadata": {},
   "outputs": [],
   "source": [
    "def get_top_10_hashtags(df):\n",
    "    df['hashtags'] = df['content'].apply(get_hashtags)\n",
    "    hashtags_counter = {}\n",
    "    for i in df.itertuples():\n",
    "        for hashtag in i.hashtags:\n",
    "            if hashtag in hashtags_counter:\n",
    "                hashtags_counter[hashtag] += 1\n",
    "            else:\n",
    "                hashtags_counter[hashtag] = 0\n",
    "    return pd.DataFrame.from_dict(hashtags_counter.items()).sort_values(1, ascending = False).iloc[0:10]"
   ]
  },
  {
   "cell_type": "code",
   "execution_count": null,
   "metadata": {},
   "outputs": [],
   "source": [
    "def main():\n",
    "    raw_tweets_df = load_json_data('farmers-protest-tweets-2021-03-5.json')\n",
    "    tweets_df = clean_usernames(raw_tweets_df)\n",
    "\n",
    "    #1\n",
    "    get_top_10_retweeted_tweets(tweets_df)\n",
    "\n",
    "    #2\n",
    "    get_top_10_users(tweets_df)\n",
    "\n",
    "    #3\n",
    "    get_top_10_days(tweets_df)\n",
    "\n",
    "    #4\n",
    "    get_top_10_hashtags(tweets_df)"
   ]
  },
  {
   "cell_type": "code",
   "execution_count": null,
   "metadata": {},
   "outputs": [],
   "source": [
    "main()"
   ]
  }
 ],
 "metadata": {
  "kernelspec": {
   "display_name": "Python 3 (ipykernel)",
   "language": "python",
   "name": "python3"
  },
  "language_info": {
   "codemirror_mode": {
    "name": "ipython",
    "version": 3
   },
   "file_extension": ".py",
   "mimetype": "text/x-python",
   "name": "python",
   "nbconvert_exporter": "python",
   "pygments_lexer": "ipython3",
   "version": "3.8.3"
  }
 },
 "nbformat": 4,
 "nbformat_minor": 2
}
