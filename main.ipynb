{
 "cells": [
  {
   "cell_type": "code",
   "execution_count": 1,
   "metadata": {},
   "outputs": [],
   "source": [
    "import pandas as pd"
   ]
  },
  {
   "cell_type": "code",
   "execution_count": null,
   "metadata": {},
   "outputs": [],
   "source": [
    "def load_json_data(path):\n",
    "    df = pd.read_json(path, lines=True)\n",
    "    return df"
   ]
  },
  {
   "cell_type": "code",
   "execution_count": null,
   "metadata": {},
   "outputs": [],
   "source": [
    "def clean_usernames(df):\n",
    "    username_list = []\n",
    "    displayname_list = []\n",
    "    id_list = []\n",
    "    for row in df['user']:\n",
    "        username_list.append(row['username'])\n",
    "        displayname_list.append(row['displayname'])\n",
    "        id_list.append(row['id'])\n",
    "    df['username'] = username_list\n",
    "    df['user_displayname'] = displayname_list\n",
    "    df['user_id'] = id_list\n",
    "    return df"
   ]
  },
  {
   "cell_type": "code",
   "execution_count": null,
   "metadata": {},
   "outputs": [],
   "source": [
    "raw_tweets_df = load_json_data('farmers-protest-tweets-2021-03-5.json')\n",
    "tweets_df = clean_usernames(raw_tweets_df)"
   ]
  },
  {
   "cell_type": "code",
   "execution_count": null,
   "metadata": {},
   "outputs": [],
   "source": [
    "def get_top_10_retweeted_tweets(df):\n",
    "    return df.sort_values(by=['retweetCount'], ascending = False).iloc[0:10]"
   ]
  }
 ],
 "metadata": {
  "kernelspec": {
   "display_name": "Python 3 (ipykernel)",
   "language": "python",
   "name": "python3"
  },
  "language_info": {
   "codemirror_mode": {
    "name": "ipython",
    "version": 3
   },
   "file_extension": ".py",
   "mimetype": "text/x-python",
   "name": "python",
   "nbconvert_exporter": "python",
   "pygments_lexer": "ipython3",
   "version": "3.8.3"
  }
 },
 "nbformat": 4,
 "nbformat_minor": 2
}
